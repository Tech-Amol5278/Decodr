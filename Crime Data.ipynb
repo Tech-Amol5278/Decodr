{
 "cells": [
  {
   "cell_type": "markdown",
   "metadata": {},
   "source": [
    "\n",
    "Documentation: https://rajanand.atlassian.net/wiki/spaces/DATASET/pages/1310740/Crime+in+India\n",
    "\n",
    "## Context\n",
    "This dataset contains complete information about various aspects of crimes happened in India from 2001. There are many factors that can be analysed from this dataset. Over all, I hope this dataset helps us to understand better about India.\n",
    "\n",
    "## Content\n",
    "I : Cases Reported and their Disposal by Police and Court\n",
    "\n",
    "# Indian Penal Code\n",
    "Special & Local Laws\n",
    "IA : SC/ST Cases Reported and their Disposal by Police and Court\n",
    "\n",
    "Crime against SCs\n",
    "Crime against STs\n",
    "IB : Children Cases Reported and their Disposal by Police and Court\n",
    "\n",
    "Abetment of Suicide (Section 305 IPC)\n",
    "Buying of Girls for Prostitution (Section 373 IPC)\n",
    "Child Marriage Restraint Act, 1929\n",
    "Exposure and Abandonment (Section 317 IPC)\n",
    "Foeticide (Section 315 and 316 IPC)\n",
    "Infanticide (Section 315 IPC)\n",
    "Kidnapping & Abduction (Section 360,361,363,363-A, 363 read with Section 384, 366, 367 & 369 IPC)\n",
    "Murder (Section 302, 315 IPC)\n",
    "Other Crimes against Children\n",
    "Other Murder of Children (Section 302 IPC)\n",
    "Procuration of Minor Girls (Section 366-A IPC)\n",
    "Rape (Section 376 IPC)\n",
    "Selling of Girls for Prostitution (Section 372 IPC)\n",
    "Total Crimes against Children\n",
    "II : Persons Arrested and their Disposal by Police and Court\n",
    "\n",
    "Indian Penal Code\n",
    "Special and Local Laws\n",
    "IIA : SC/ST Persons Arrested and their Disposal by Police and Court\n",
    "\n",
    "Crime against SCs\n",
    "Crime against STs\n",
    "IIB : Children Persons Arrested and their Disposal by Police and Court\n",
    "\n",
    "Abetment of suicide (Section 305 IPC)\n",
    "Buying of girls for prostitution (Section 373 IPC)\n",
    "Child Marriage Restraint Act, 1929\n",
    "Exposure and Abandonment (Section 317 IPC)\n",
    "Foeticide (Section 315 and 316 IPC)\n",
    "Kidnapping & Abduction (Section 360,361,363,363-A, 366, 367 & 369 IPC)\n",
    "Murder - Infanticide (Section 315 IPC)\n",
    "Murder - Other Murder of Children\n",
    "Murder (Section 302, 315 IPC)\n",
    "Other Crimes against Children\n",
    "Procuration of minor girls (Section 366-A IPC)\n",
    "Rape (Section 376 IPC)\n",
    "Selling of girls for prostitution (Section 372 IPC)\n",
    "Total Crimes against Children\n",
    "IV : Persons Arrested by Sex and Age Group\n",
    "\n",
    "Indian Penal Code\n",
    "Special & Local Laws\n",
    "V : Juveniles Apprehended\n",
    "\n",
    "Indian Penal Code\n",
    "Special & Local Laws\n",
    "VI : Juveniles Arrested and their Disposal\n",
    "\n",
    "VII : Property Stolen & Recovered (Crime Head)\n",
    "\n",
    "Dacoity\n",
    "Robbery\n",
    "Burglary\n",
    "Theft\n",
    "Criminal Breach of Trust\n",
    "Other Property\n",
    "Total Property Stolen & Recovered\n",
    "VIII : Property Stolen & Recovered (Nature of Property)\n",
    "\n",
    "Communation and Electricity Wire\n",
    "Cattle\n",
    "Cycle\n",
    "Motor Vehicles\n",
    "Motor Vehicles - Motor Cycle/Scooters\n",
    "Motor Vehicles - Motor Car/Taxi/Jeep\n",
    "Motor Vehicles - Other Motor Vehicles\n",
    "Fire Arms\n",
    "Explosives/Explosive Substances\n",
    "Electronic Components\n",
    "Cultural Property including Antiques\n",
    "Other kinds of Property\n",
    "Total Property Stolen & Recovered\n",
    "IX : Police Strength (Actual & Sanctioned)\n",
    "\n",
    "A) Actual Civil Police (Incl. District Armed Police and Women Police)\n",
    "A) Acual Armed Police (Incl. Women Police)\n",
    "A) Actual Police Strength (Incl. Women)\n",
    "B) Acual Women Civil Police (Incl. District Armed Force)\n",
    "B) Actual Women Armed Police\n",
    "B) Actual Women Police Strength\n",
    "C) Sanctioned Civil Police (Incl. District Armed Police)\n",
    "C) Santioned Armed Police (Incl. Women Police)\n",
    "C) Santioned Police Strength (Incl. Women)\n",
    "D) Sanctioned Women Civil Police (Incl. District Armed Police)\n",
    "D) Sanctioned Women Armed Police\n",
    "D) Sanctioned Women Police Strength\n",
    "X : Police Personnel Killed or Injured on duty\n",
    "\n",
    "Constables\n",
    "Head Constables\n",
    "Assistant Sub-Inspectos\n",
    "Sub-Inspectors\n",
    "Inspectors\n",
    "Gazetted Officers\n",
    "Total Police Killed or Injured\n",
    "X-B : Age Profile of Police Personnel Killed on Duty\n",
    "\n",
    "X-C : Natural Deaths and Suicides of Police Personnel\n",
    "\n",
    "Natural Deaths of Police Personnel (while in service)\n",
    "Police Personnel Committed Suicide\n",
    "XI : Casualties under Police Firing and LathiCharge\n",
    "\n",
    "Riot Control\n",
    "Anti Dacoity Operations\n",
    "Against Extremists & Terrorists\n",
    "Against Others\n",
    "Total Casualties\n",
    "XII : Cases Reported Value of Property Stolen under Dacoity, Robbery, Burglary and Theft by Place of Occurance\n",
    "\n",
    "Residential Premises\n",
    "Highways\n",
    "River and Sea\n",
    "Railways\n",
    "4.1 In Running Trains\n",
    "4.2 Others\n",
    "Banks\n",
    "Commercial Establishments (Shops etc.)\n",
    "Other Places\n",
    "Total\n",
    "XIII : Particulars of Juveniles Arrested\n",
    "\n",
    "Education\n",
    "Economic Setup\n",
    "Family Background\n",
    "Recidivism\n",
    "XIV : Motive/Cause of Murder and Culpable Homicide not Amounting to Murder\n",
    "\n",
    "XV : Victims of Rape(Age Group-wise)\n",
    "\n",
    "Incest Rape Cases\n",
    "Other Rape Cases (Otherthan Incest)\n",
    "Total Rape Cases\n",
    "XV-A : Rape Offenders relation, nearness to Rape Victims\n",
    "\n",
    "XVI : Persons Arrested under Recidivism\n",
    "\n",
    "XVII : Anti Corruption - Cases\n",
    "\n",
    "XVIII : Anti Corruption - Arrests\n",
    "\n",
    "XIX : Complaints/Cases Against Police Personnel\n",
    "\n",
    "Complaints Received/Cases Registered\n",
    "Police Personnel Involved/Action Taken\n",
    "Departmental Action/Punishments\n",
    "*XX : Police Budget and Infrastructure\n",
    "\n",
    "Equipments and Transport Support\n",
    "Distribution of Police Stations by Crime Incidences\n",
    "Distribution of Police Stations by Police Strength\n",
    "Organisational Set Up\n",
    "SCs/STs and Muslims in Police Force (Actual)\n",
    "XXI : 1. Nature of Complaints Received by Police\n",
    "\n",
    "XXI : 2. Trial of Violent Crimes by Courts\n",
    "\n",
    "Murder\n",
    "Attempt to Murder\n",
    "C H Not Amounting to Murder\n",
    "Rape\n",
    "Kidnapping & Abduction\n",
    "5.1 Kidnapping & Abduction of Women & Girls\n",
    "5.2 Kidnapping & Abduction of Others\n",
    "Dacoity\n",
    "Preparation & Assembly for Dacoity\n",
    "Robbery\n",
    "Riots\n",
    "Arson\n",
    "Dowry Deaths\n",
    "Total Trials (Sum of 1-11 Above)\n",
    "XXI : 3. Period of Trials by Courts\n",
    "\n",
    "District/Session Judge\n",
    "Additional Session Judge\n",
    "Chief Judicial Magistrate\n",
    "Judicial Magistrate (I)\n",
    "Judicial Magistrate (II)\n",
    "Special Judicial Magistrate\n",
    "Other courts\n",
    "Total Trials (Sum of 1-7 Above)\n",
    "XXI : 4.1 Autho Theft (Stolen & Recovered)\n",
    "\n",
    "Motor Cycles/ Scooters\n",
    "Motor Car/Taxi/Jeep\n",
    "Buses\n",
    "Goods carrying vehicles (Trucks/Tempo etc)\n",
    "Other Motor vehicles\n",
    "Total (Sum of 1-5 Above)\n",
    "XXI : 4.2 Serious Fraud\n",
    "\n",
    "Criminal Breach of Trust\n",
    "Cheating\n",
    "XXI : 5.1 Victims of Murder (Age & Sex-Wise)\n",
    "\n",
    "Male Victims\n",
    "Female Victims\n",
    "Total\n",
    "XXI : 5.2 Victims of CH not Amounting to Murder (Age & Sex-wise)\n",
    "\n",
    "Male Victims\n",
    "Female Victims\n",
    "Total\n",
    "XXI : 5.3 Use of FireArms in Murder Cases\n",
    "\n",
    "XXI : 6. Human Rights Violation by Police\n",
    "\n",
    "Disappearance of Persons\n",
    "Illegal Detention/Arrests\n",
    "Fake Encounter Killings\n",
    "Violation Against Terrorists/Extremists\n",
    "Extortion\n",
    "Torture\n",
    "False Implication\n",
    "Failure in Taking Action\n",
    "Indignity to Women\n",
    "Atrocities on SC/ST\n",
    "Others\n",
    "Total (Sum of 1-11 Above)\n",
    "XXI : 7. Police Housing\n",
    "\n",
    "For Officers (Dy.SP & Above)\n",
    "Upper SubOrdinates (ASI to Inspectos)\n",
    "Lower SubOrdinates (Constables, Head Constables & Class-IV Subordinate Staff)\n",
    "XXI : 8. Home Guards and Auxilliary force\n",
    "\n",
    "XXI : 9. Unidentified Deadbodies Recovered & Inquest conducted\n",
    "\n",
    "XXI : 10. Victims of Kidnapping & Abduction for Specific Purpose\n",
    "\n",
    "For Adoption\n",
    "For Begging\n",
    "for Camel Racing\n",
    "For Illicit Intercourse\n",
    "For Marriage\n",
    "For Prostitution\n",
    "For Ransom\n",
    "For Revenge\n",
    "For Sale\n",
    "For Selling Bodyparts\n",
    "For Slavery\n",
    "For Unlawful Activity\n",
    "Other Purposes\n",
    "Total (Sum of 1-13 Above)\n",
    "XXI : 11. Custodial Deaths\n",
    "\n",
    "Deaths in Custody/Lockup of Persons Remanded to Police Custody by Court\n",
    "Deaths in Custody/Lockup of Persons Not Remanded to Police Custody by Court\n",
    "Deaths in Custody during production/process in courts/journey connected with investigation\n",
    "Deaths during Hospitalisation/Treatment\n",
    "Deaths due to Other Reasons\n",
    "XXI : 12. Escapes from Police Custody\n",
    "\n",
    "Cases under Crime Against Women\n",
    "\n",
    "Rape\n",
    "Kidnapping & Abduction of Women & Girls\n",
    "Dowry Deaths\n",
    "Molestation\n",
    "Sexual Harassment\n",
    "Cruelty by Husband and Relatives\n",
    "Importation of Girls\n",
    "Immoral Traffic Prevention Act, 1956\n",
    "Dowry Prohibition Act, 1961\n",
    "Indecent Representation of Women(Prohibition) Act, 1986\n",
    "Sati Prevention Act, 1987\n",
    "Total Crimes Against Women\n",
    "Arrests under Crime Against Women\n",
    "\n",
    "Rape\n",
    "Kidnapping & Abduction of Women & Girls\n",
    "Dowry Deaths\n",
    "Molestation\n",
    "Sexual Harassment\n",
    "Cruelty by Husband and Relatives\n",
    "Importation of Girls\n",
    "Immoral Traffic Prevention Act, 1956\n",
    "Dowry Prohibition, 1961\n",
    "Indecent Representation of Women(Prohibition) Act, 1986\n",
    "Sati Prevention Act, 1987\n",
    "Total Crimes Against Women\n",
    "Some of the data contains district level data. The districts are police districts and also include special police unit. Therefore these may be different from revenue districts. Most of the data is from 2001 to 2010. But there are few files which has data only from 2011 and few are having 2001-14.\n",
    "\n",
    "# Inspiration\n",
    "There could be many things one can understand by analyzing this dataset. Few inspirations for you to start with.\n",
    "\n",
    "What is the major reason people being kidnapped in each and every state?\n",
    "Offenders relation to the rape victim\n",
    "Juveniles family background, education and economic setup.\n",
    "Which state has more crime against children and women?\n",
    "Age group wise murder victim\n",
    "Crime by place of occurrence.\n",
    "Anti corruption cases vs arrests.\n",
    "Which state has more number of complaints against police?\n",
    "Which state is the safest for foreigners?\n",
    "Acknowledgements\n",
    "National Crime Records Bureau (NCRB), Govt of India has published this dataset on their website and also has shared on Open Govt Data Platform India portal under Govt. Open Data License - India."
   ]
  },
  {
   "cell_type": "code",
   "execution_count": 5,
   "metadata": {},
   "outputs": [],
   "source": [
    "import pandas as pd\n",
    "import numpy as np\n",
    "import plotly.graph_objects as go"
   ]
  },
  {
   "cell_type": "code",
   "execution_count": 80,
   "metadata": {},
   "outputs": [],
   "source": [
    "df = pd.read_csv(r\"D:\\amol_lap_data\\python_tutor\\Jupyter\\crime-in-india\\crime\\17_Crime_by_place_of_occurrence_2014.csv\")"
   ]
  },
  {
   "cell_type": "code",
   "execution_count": 86,
   "metadata": {},
   "outputs": [
    {
     "data": {
      "text/html": [
       "<div>\n",
       "<style scoped>\n",
       "    .dataframe tbody tr th:only-of-type {\n",
       "        vertical-align: middle;\n",
       "    }\n",
       "\n",
       "    .dataframe tbody tr th {\n",
       "        vertical-align: top;\n",
       "    }\n",
       "\n",
       "    .dataframe thead th {\n",
       "        text-align: right;\n",
       "    }\n",
       "</style>\n",
       "<table border=\"1\" class=\"dataframe\">\n",
       "  <thead>\n",
       "    <tr style=\"text-align: right;\">\n",
       "      <th></th>\n",
       "      <th>States/UTs</th>\n",
       "      <th>Year</th>\n",
       "      <th>Residence_Dacoity_Cases reported</th>\n",
       "      <th>Residence_Dacoity_Value of property stolen</th>\n",
       "      <th>Residence_Robbery_Cases reported</th>\n",
       "      <th>Residence_Robbery_Value of property stolen</th>\n",
       "      <th>Residence_Burglary_Cases reported</th>\n",
       "      <th>Residence_Burglary_Value of property stolen</th>\n",
       "      <th>Residence_Theft_Cases reported</th>\n",
       "      <th>Residence_Theft_Value of property stolen</th>\n",
       "      <th>...</th>\n",
       "      <th>OtherPlaces_Theft_Cases reported</th>\n",
       "      <th>OtherPlaces_Theft_Value of property stolen</th>\n",
       "      <th>Total_Dacoity_Cases reported</th>\n",
       "      <th>Total_Dacoity_Value of property stolen</th>\n",
       "      <th>Total_Robbery_Cases reported</th>\n",
       "      <th>Total_Robbery_Value of property stolen</th>\n",
       "      <th>Total_Burglary_Cases reported</th>\n",
       "      <th>Total_Burglary_Value of property stolen</th>\n",
       "      <th>Total_Theft_Cases reported</th>\n",
       "      <th>Total_Theft_Value of property stolen</th>\n",
       "    </tr>\n",
       "  </thead>\n",
       "  <tbody>\n",
       "    <tr>\n",
       "      <th>0</th>\n",
       "      <td>Andhra Pradesh</td>\n",
       "      <td>2014</td>\n",
       "      <td>27</td>\n",
       "      <td>7983001</td>\n",
       "      <td>124</td>\n",
       "      <td>10577950</td>\n",
       "      <td>3530</td>\n",
       "      <td>226363051</td>\n",
       "      <td>5757</td>\n",
       "      <td>199348324</td>\n",
       "      <td>...</td>\n",
       "      <td>4997</td>\n",
       "      <td>199285711</td>\n",
       "      <td>75</td>\n",
       "      <td>27152368</td>\n",
       "      <td>433</td>\n",
       "      <td>41148643</td>\n",
       "      <td>4719</td>\n",
       "      <td>321352316.0</td>\n",
       "      <td>15617</td>\n",
       "      <td>641880290</td>\n",
       "    </tr>\n",
       "    <tr>\n",
       "      <th>1</th>\n",
       "      <td>Arunachal Pradesh</td>\n",
       "      <td>2014</td>\n",
       "      <td>3</td>\n",
       "      <td>67500</td>\n",
       "      <td>8</td>\n",
       "      <td>86350</td>\n",
       "      <td>103</td>\n",
       "      <td>6637940</td>\n",
       "      <td>173</td>\n",
       "      <td>15422078</td>\n",
       "      <td>...</td>\n",
       "      <td>158</td>\n",
       "      <td>37247470</td>\n",
       "      <td>12</td>\n",
       "      <td>477000</td>\n",
       "      <td>61</td>\n",
       "      <td>8718930</td>\n",
       "      <td>224</td>\n",
       "      <td>12324815.0</td>\n",
       "      <td>498</td>\n",
       "      <td>78789228</td>\n",
       "    </tr>\n",
       "    <tr>\n",
       "      <th>2</th>\n",
       "      <td>Assam</td>\n",
       "      <td>2014</td>\n",
       "      <td>144</td>\n",
       "      <td>10693775</td>\n",
       "      <td>315</td>\n",
       "      <td>4191631</td>\n",
       "      <td>2293</td>\n",
       "      <td>26376373</td>\n",
       "      <td>4503</td>\n",
       "      <td>131897564</td>\n",
       "      <td>...</td>\n",
       "      <td>5981</td>\n",
       "      <td>130654964</td>\n",
       "      <td>267</td>\n",
       "      <td>16603231</td>\n",
       "      <td>1038</td>\n",
       "      <td>18121153</td>\n",
       "      <td>4954</td>\n",
       "      <td>49369570.0</td>\n",
       "      <td>12737</td>\n",
       "      <td>311982322</td>\n",
       "    </tr>\n",
       "    <tr>\n",
       "      <th>3</th>\n",
       "      <td>Bihar</td>\n",
       "      <td>2014</td>\n",
       "      <td>174</td>\n",
       "      <td>27725940</td>\n",
       "      <td>117</td>\n",
       "      <td>6558972</td>\n",
       "      <td>3693</td>\n",
       "      <td>262152615</td>\n",
       "      <td>6655</td>\n",
       "      <td>116467719</td>\n",
       "      <td>...</td>\n",
       "      <td>10874</td>\n",
       "      <td>416911296</td>\n",
       "      <td>538</td>\n",
       "      <td>151516733</td>\n",
       "      <td>1600</td>\n",
       "      <td>74012959</td>\n",
       "      <td>4674</td>\n",
       "      <td>279472385.0</td>\n",
       "      <td>22888</td>\n",
       "      <td>693664033</td>\n",
       "    </tr>\n",
       "    <tr>\n",
       "      <th>4</th>\n",
       "      <td>Chhattisgarh</td>\n",
       "      <td>2014</td>\n",
       "      <td>27</td>\n",
       "      <td>3076170</td>\n",
       "      <td>25</td>\n",
       "      <td>1137900</td>\n",
       "      <td>1985</td>\n",
       "      <td>85802275</td>\n",
       "      <td>1235</td>\n",
       "      <td>53896428</td>\n",
       "      <td>...</td>\n",
       "      <td>3057</td>\n",
       "      <td>125524854</td>\n",
       "      <td>58</td>\n",
       "      <td>911101420</td>\n",
       "      <td>405</td>\n",
       "      <td>26477826</td>\n",
       "      <td>3247</td>\n",
       "      <td>150182672.0</td>\n",
       "      <td>6098</td>\n",
       "      <td>266495669</td>\n",
       "    </tr>\n",
       "  </tbody>\n",
       "</table>\n",
       "<p>5 rows × 82 columns</p>\n",
       "</div>"
      ],
      "text/plain": [
       "          States/UTs  Year  Residence_Dacoity_Cases reported  \\\n",
       "0     Andhra Pradesh  2014                                27   \n",
       "1  Arunachal Pradesh  2014                                 3   \n",
       "2              Assam  2014                               144   \n",
       "3              Bihar  2014                               174   \n",
       "4       Chhattisgarh  2014                                27   \n",
       "\n",
       "   Residence_Dacoity_Value of property stolen  \\\n",
       "0                                     7983001   \n",
       "1                                       67500   \n",
       "2                                    10693775   \n",
       "3                                    27725940   \n",
       "4                                     3076170   \n",
       "\n",
       "   Residence_Robbery_Cases reported  \\\n",
       "0                               124   \n",
       "1                                 8   \n",
       "2                               315   \n",
       "3                               117   \n",
       "4                                25   \n",
       "\n",
       "   Residence_Robbery_Value of property stolen  \\\n",
       "0                                    10577950   \n",
       "1                                       86350   \n",
       "2                                     4191631   \n",
       "3                                     6558972   \n",
       "4                                     1137900   \n",
       "\n",
       "   Residence_Burglary_Cases reported  \\\n",
       "0                               3530   \n",
       "1                                103   \n",
       "2                               2293   \n",
       "3                               3693   \n",
       "4                               1985   \n",
       "\n",
       "   Residence_Burglary_Value of property stolen  \\\n",
       "0                                    226363051   \n",
       "1                                      6637940   \n",
       "2                                     26376373   \n",
       "3                                    262152615   \n",
       "4                                     85802275   \n",
       "\n",
       "   Residence_Theft_Cases reported  Residence_Theft_Value of property stolen  \\\n",
       "0                            5757                                 199348324   \n",
       "1                             173                                  15422078   \n",
       "2                            4503                                 131897564   \n",
       "3                            6655                                 116467719   \n",
       "4                            1235                                  53896428   \n",
       "\n",
       "   ...  OtherPlaces_Theft_Cases reported  \\\n",
       "0  ...                              4997   \n",
       "1  ...                               158   \n",
       "2  ...                              5981   \n",
       "3  ...                             10874   \n",
       "4  ...                              3057   \n",
       "\n",
       "   OtherPlaces_Theft_Value of property stolen  Total_Dacoity_Cases reported  \\\n",
       "0                                   199285711                            75   \n",
       "1                                    37247470                            12   \n",
       "2                                   130654964                           267   \n",
       "3                                   416911296                           538   \n",
       "4                                   125524854                            58   \n",
       "\n",
       "   Total_Dacoity_Value of property stolen  Total_Robbery_Cases reported  \\\n",
       "0                                27152368                           433   \n",
       "1                                  477000                            61   \n",
       "2                                16603231                          1038   \n",
       "3                               151516733                          1600   \n",
       "4                               911101420                           405   \n",
       "\n",
       "   Total_Robbery_Value of property stolen  Total_Burglary_Cases reported  \\\n",
       "0                                41148643                           4719   \n",
       "1                                 8718930                            224   \n",
       "2                                18121153                           4954   \n",
       "3                                74012959                           4674   \n",
       "4                                26477826                           3247   \n",
       "\n",
       "   Total_Burglary_Value of property stolen  Total_Theft_Cases reported  \\\n",
       "0                              321352316.0                       15617   \n",
       "1                               12324815.0                         498   \n",
       "2                               49369570.0                       12737   \n",
       "3                              279472385.0                       22888   \n",
       "4                              150182672.0                        6098   \n",
       "\n",
       "   Total_Theft_Value of property stolen  \n",
       "0                             641880290  \n",
       "1                              78789228  \n",
       "2                             311982322  \n",
       "3                             693664033  \n",
       "4                             266495669  \n",
       "\n",
       "[5 rows x 82 columns]"
      ]
     },
     "execution_count": 86,
     "metadata": {},
     "output_type": "execute_result"
    }
   ],
   "source": [
    "df.head()"
   ]
  },
  {
   "cell_type": "code",
   "execution_count": 82,
   "metadata": {},
   "outputs": [],
   "source": [
    "df = df.drop(df.index[[36,37,38]])"
   ]
  },
  {
   "cell_type": "markdown",
   "metadata": {},
   "source": [
    "The Above snapshot of data represents the statewise count of crimes commited and the type of crimes."
   ]
  },
  {
   "cell_type": "markdown",
   "metadata": {},
   "source": [
    "# Univariate Analysis"
   ]
  },
  {
   "cell_type": "markdown",
   "metadata": {},
   "source": [
    "States"
   ]
  },
  {
   "cell_type": "code",
   "execution_count": 83,
   "metadata": {},
   "outputs": [
    {
     "data": {
      "text/html": [
       "<div>\n",
       "<style scoped>\n",
       "    .dataframe tbody tr th:only-of-type {\n",
       "        vertical-align: middle;\n",
       "    }\n",
       "\n",
       "    .dataframe tbody tr th {\n",
       "        vertical-align: top;\n",
       "    }\n",
       "\n",
       "    .dataframe thead th {\n",
       "        text-align: right;\n",
       "    }\n",
       "</style>\n",
       "<table border=\"1\" class=\"dataframe\">\n",
       "  <thead>\n",
       "    <tr style=\"text-align: right;\">\n",
       "      <th></th>\n",
       "      <th>count</th>\n",
       "      <th>unique</th>\n",
       "      <th>top</th>\n",
       "      <th>freq</th>\n",
       "    </tr>\n",
       "  </thead>\n",
       "  <tbody>\n",
       "    <tr>\n",
       "      <th>States/UTs</th>\n",
       "      <td>36</td>\n",
       "      <td>36</td>\n",
       "      <td>Mizoram</td>\n",
       "      <td>1</td>\n",
       "    </tr>\n",
       "  </tbody>\n",
       "</table>\n",
       "</div>"
      ],
      "text/plain": [
       "           count unique      top freq\n",
       "States/UTs    36     36  Mizoram    1"
      ]
     },
     "execution_count": 83,
     "metadata": {},
     "output_type": "execute_result"
    }
   ],
   "source": [
    "df['States/UTs'].describe().to_frame().T"
   ]
  },
  {
   "cell_type": "code",
   "execution_count": 84,
   "metadata": {},
   "outputs": [
    {
     "data": {
      "application/vnd.plotly.v1+json": {
       "config": {
        "plotlyServerURL": "https://plot.ly"
       },
       "data": [
        {
         "alignmentgroup": "True",
         "hovertemplate": "States/UTs=%{x}<br>Residence_Dacoity_Cases reported=%{y}<extra></extra>",
         "legendgroup": "",
         "marker": {
          "color": "#636efa"
         },
         "name": "",
         "offsetgroup": "",
         "orientation": "v",
         "showlegend": false,
         "textposition": "auto",
         "type": "bar",
         "x": [
          "Andhra Pradesh",
          "Arunachal Pradesh",
          "Assam",
          "Bihar",
          "Chhattisgarh",
          "Goa",
          "Gujarat",
          "Haryana",
          "Himachal Pradesh",
          "Jammu & Kashmir",
          "Jharkhand",
          "Karnataka",
          "Kerala",
          "Madhya Pradesh",
          "Maharashtra",
          "Manipur",
          "Meghalaya",
          "Mizoram",
          "Nagaland",
          "Odisha",
          "Punjab",
          "Rajasthan",
          "Sikkim",
          "Tamil Nadu",
          "Telangana",
          "Tripura",
          "Uttar Pradesh",
          "Uttarakhand",
          "West Bengal",
          "A & N Islands",
          "Chandigarh",
          "D&N Haveli",
          "Daman & Diu",
          "Delhi UT",
          "Lakshadweep",
          "Puducherry"
         ],
         "xaxis": "x",
         "y": [
          27,
          3,
          144,
          174,
          27,
          3,
          125,
          20,
          0,
          3,
          110,
          64,
          19,
          35,
          161,
          0,
          10,
          1,
          7,
          113,
          8,
          11,
          0,
          45,
          30,
          1,
          121,
          15,
          56,
          0,
          0,
          0,
          0,
          14,
          0,
          1
         ],
         "yaxis": "y"
        }
       ],
       "layout": {
        "barmode": "relative",
        "legend": {
         "tracegroupgap": 0
        },
        "margin": {
         "t": 60
        },
        "template": {
         "data": {
          "bar": [
           {
            "error_x": {
             "color": "#2a3f5f"
            },
            "error_y": {
             "color": "#2a3f5f"
            },
            "marker": {
             "line": {
              "color": "#E5ECF6",
              "width": 0.5
             }
            },
            "type": "bar"
           }
          ],
          "barpolar": [
           {
            "marker": {
             "line": {
              "color": "#E5ECF6",
              "width": 0.5
             }
            },
            "type": "barpolar"
           }
          ],
          "carpet": [
           {
            "aaxis": {
             "endlinecolor": "#2a3f5f",
             "gridcolor": "white",
             "linecolor": "white",
             "minorgridcolor": "white",
             "startlinecolor": "#2a3f5f"
            },
            "baxis": {
             "endlinecolor": "#2a3f5f",
             "gridcolor": "white",
             "linecolor": "white",
             "minorgridcolor": "white",
             "startlinecolor": "#2a3f5f"
            },
            "type": "carpet"
           }
          ],
          "choropleth": [
           {
            "colorbar": {
             "outlinewidth": 0,
             "ticks": ""
            },
            "type": "choropleth"
           }
          ],
          "contour": [
           {
            "colorbar": {
             "outlinewidth": 0,
             "ticks": ""
            },
            "colorscale": [
             [
              0,
              "#0d0887"
             ],
             [
              0.1111111111111111,
              "#46039f"
             ],
             [
              0.2222222222222222,
              "#7201a8"
             ],
             [
              0.3333333333333333,
              "#9c179e"
             ],
             [
              0.4444444444444444,
              "#bd3786"
             ],
             [
              0.5555555555555556,
              "#d8576b"
             ],
             [
              0.6666666666666666,
              "#ed7953"
             ],
             [
              0.7777777777777778,
              "#fb9f3a"
             ],
             [
              0.8888888888888888,
              "#fdca26"
             ],
             [
              1,
              "#f0f921"
             ]
            ],
            "type": "contour"
           }
          ],
          "contourcarpet": [
           {
            "colorbar": {
             "outlinewidth": 0,
             "ticks": ""
            },
            "type": "contourcarpet"
           }
          ],
          "heatmap": [
           {
            "colorbar": {
             "outlinewidth": 0,
             "ticks": ""
            },
            "colorscale": [
             [
              0,
              "#0d0887"
             ],
             [
              0.1111111111111111,
              "#46039f"
             ],
             [
              0.2222222222222222,
              "#7201a8"
             ],
             [
              0.3333333333333333,
              "#9c179e"
             ],
             [
              0.4444444444444444,
              "#bd3786"
             ],
             [
              0.5555555555555556,
              "#d8576b"
             ],
             [
              0.6666666666666666,
              "#ed7953"
             ],
             [
              0.7777777777777778,
              "#fb9f3a"
             ],
             [
              0.8888888888888888,
              "#fdca26"
             ],
             [
              1,
              "#f0f921"
             ]
            ],
            "type": "heatmap"
           }
          ],
          "heatmapgl": [
           {
            "colorbar": {
             "outlinewidth": 0,
             "ticks": ""
            },
            "colorscale": [
             [
              0,
              "#0d0887"
             ],
             [
              0.1111111111111111,
              "#46039f"
             ],
             [
              0.2222222222222222,
              "#7201a8"
             ],
             [
              0.3333333333333333,
              "#9c179e"
             ],
             [
              0.4444444444444444,
              "#bd3786"
             ],
             [
              0.5555555555555556,
              "#d8576b"
             ],
             [
              0.6666666666666666,
              "#ed7953"
             ],
             [
              0.7777777777777778,
              "#fb9f3a"
             ],
             [
              0.8888888888888888,
              "#fdca26"
             ],
             [
              1,
              "#f0f921"
             ]
            ],
            "type": "heatmapgl"
           }
          ],
          "histogram": [
           {
            "marker": {
             "colorbar": {
              "outlinewidth": 0,
              "ticks": ""
             }
            },
            "type": "histogram"
           }
          ],
          "histogram2d": [
           {
            "colorbar": {
             "outlinewidth": 0,
             "ticks": ""
            },
            "colorscale": [
             [
              0,
              "#0d0887"
             ],
             [
              0.1111111111111111,
              "#46039f"
             ],
             [
              0.2222222222222222,
              "#7201a8"
             ],
             [
              0.3333333333333333,
              "#9c179e"
             ],
             [
              0.4444444444444444,
              "#bd3786"
             ],
             [
              0.5555555555555556,
              "#d8576b"
             ],
             [
              0.6666666666666666,
              "#ed7953"
             ],
             [
              0.7777777777777778,
              "#fb9f3a"
             ],
             [
              0.8888888888888888,
              "#fdca26"
             ],
             [
              1,
              "#f0f921"
             ]
            ],
            "type": "histogram2d"
           }
          ],
          "histogram2dcontour": [
           {
            "colorbar": {
             "outlinewidth": 0,
             "ticks": ""
            },
            "colorscale": [
             [
              0,
              "#0d0887"
             ],
             [
              0.1111111111111111,
              "#46039f"
             ],
             [
              0.2222222222222222,
              "#7201a8"
             ],
             [
              0.3333333333333333,
              "#9c179e"
             ],
             [
              0.4444444444444444,
              "#bd3786"
             ],
             [
              0.5555555555555556,
              "#d8576b"
             ],
             [
              0.6666666666666666,
              "#ed7953"
             ],
             [
              0.7777777777777778,
              "#fb9f3a"
             ],
             [
              0.8888888888888888,
              "#fdca26"
             ],
             [
              1,
              "#f0f921"
             ]
            ],
            "type": "histogram2dcontour"
           }
          ],
          "mesh3d": [
           {
            "colorbar": {
             "outlinewidth": 0,
             "ticks": ""
            },
            "type": "mesh3d"
           }
          ],
          "parcoords": [
           {
            "line": {
             "colorbar": {
              "outlinewidth": 0,
              "ticks": ""
             }
            },
            "type": "parcoords"
           }
          ],
          "pie": [
           {
            "automargin": true,
            "type": "pie"
           }
          ],
          "scatter": [
           {
            "marker": {
             "colorbar": {
              "outlinewidth": 0,
              "ticks": ""
             }
            },
            "type": "scatter"
           }
          ],
          "scatter3d": [
           {
            "line": {
             "colorbar": {
              "outlinewidth": 0,
              "ticks": ""
             }
            },
            "marker": {
             "colorbar": {
              "outlinewidth": 0,
              "ticks": ""
             }
            },
            "type": "scatter3d"
           }
          ],
          "scattercarpet": [
           {
            "marker": {
             "colorbar": {
              "outlinewidth": 0,
              "ticks": ""
             }
            },
            "type": "scattercarpet"
           }
          ],
          "scattergeo": [
           {
            "marker": {
             "colorbar": {
              "outlinewidth": 0,
              "ticks": ""
             }
            },
            "type": "scattergeo"
           }
          ],
          "scattergl": [
           {
            "marker": {
             "colorbar": {
              "outlinewidth": 0,
              "ticks": ""
             }
            },
            "type": "scattergl"
           }
          ],
          "scattermapbox": [
           {
            "marker": {
             "colorbar": {
              "outlinewidth": 0,
              "ticks": ""
             }
            },
            "type": "scattermapbox"
           }
          ],
          "scatterpolar": [
           {
            "marker": {
             "colorbar": {
              "outlinewidth": 0,
              "ticks": ""
             }
            },
            "type": "scatterpolar"
           }
          ],
          "scatterpolargl": [
           {
            "marker": {
             "colorbar": {
              "outlinewidth": 0,
              "ticks": ""
             }
            },
            "type": "scatterpolargl"
           }
          ],
          "scatterternary": [
           {
            "marker": {
             "colorbar": {
              "outlinewidth": 0,
              "ticks": ""
             }
            },
            "type": "scatterternary"
           }
          ],
          "surface": [
           {
            "colorbar": {
             "outlinewidth": 0,
             "ticks": ""
            },
            "colorscale": [
             [
              0,
              "#0d0887"
             ],
             [
              0.1111111111111111,
              "#46039f"
             ],
             [
              0.2222222222222222,
              "#7201a8"
             ],
             [
              0.3333333333333333,
              "#9c179e"
             ],
             [
              0.4444444444444444,
              "#bd3786"
             ],
             [
              0.5555555555555556,
              "#d8576b"
             ],
             [
              0.6666666666666666,
              "#ed7953"
             ],
             [
              0.7777777777777778,
              "#fb9f3a"
             ],
             [
              0.8888888888888888,
              "#fdca26"
             ],
             [
              1,
              "#f0f921"
             ]
            ],
            "type": "surface"
           }
          ],
          "table": [
           {
            "cells": {
             "fill": {
              "color": "#EBF0F8"
             },
             "line": {
              "color": "white"
             }
            },
            "header": {
             "fill": {
              "color": "#C8D4E3"
             },
             "line": {
              "color": "white"
             }
            },
            "type": "table"
           }
          ]
         },
         "layout": {
          "annotationdefaults": {
           "arrowcolor": "#2a3f5f",
           "arrowhead": 0,
           "arrowwidth": 1
          },
          "coloraxis": {
           "colorbar": {
            "outlinewidth": 0,
            "ticks": ""
           }
          },
          "colorscale": {
           "diverging": [
            [
             0,
             "#8e0152"
            ],
            [
             0.1,
             "#c51b7d"
            ],
            [
             0.2,
             "#de77ae"
            ],
            [
             0.3,
             "#f1b6da"
            ],
            [
             0.4,
             "#fde0ef"
            ],
            [
             0.5,
             "#f7f7f7"
            ],
            [
             0.6,
             "#e6f5d0"
            ],
            [
             0.7,
             "#b8e186"
            ],
            [
             0.8,
             "#7fbc41"
            ],
            [
             0.9,
             "#4d9221"
            ],
            [
             1,
             "#276419"
            ]
           ],
           "sequential": [
            [
             0,
             "#0d0887"
            ],
            [
             0.1111111111111111,
             "#46039f"
            ],
            [
             0.2222222222222222,
             "#7201a8"
            ],
            [
             0.3333333333333333,
             "#9c179e"
            ],
            [
             0.4444444444444444,
             "#bd3786"
            ],
            [
             0.5555555555555556,
             "#d8576b"
            ],
            [
             0.6666666666666666,
             "#ed7953"
            ],
            [
             0.7777777777777778,
             "#fb9f3a"
            ],
            [
             0.8888888888888888,
             "#fdca26"
            ],
            [
             1,
             "#f0f921"
            ]
           ],
           "sequentialminus": [
            [
             0,
             "#0d0887"
            ],
            [
             0.1111111111111111,
             "#46039f"
            ],
            [
             0.2222222222222222,
             "#7201a8"
            ],
            [
             0.3333333333333333,
             "#9c179e"
            ],
            [
             0.4444444444444444,
             "#bd3786"
            ],
            [
             0.5555555555555556,
             "#d8576b"
            ],
            [
             0.6666666666666666,
             "#ed7953"
            ],
            [
             0.7777777777777778,
             "#fb9f3a"
            ],
            [
             0.8888888888888888,
             "#fdca26"
            ],
            [
             1,
             "#f0f921"
            ]
           ]
          },
          "colorway": [
           "#636efa",
           "#EF553B",
           "#00cc96",
           "#ab63fa",
           "#FFA15A",
           "#19d3f3",
           "#FF6692",
           "#B6E880",
           "#FF97FF",
           "#FECB52"
          ],
          "font": {
           "color": "#2a3f5f"
          },
          "geo": {
           "bgcolor": "white",
           "lakecolor": "white",
           "landcolor": "#E5ECF6",
           "showlakes": true,
           "showland": true,
           "subunitcolor": "white"
          },
          "hoverlabel": {
           "align": "left"
          },
          "hovermode": "closest",
          "mapbox": {
           "style": "light"
          },
          "paper_bgcolor": "white",
          "plot_bgcolor": "#E5ECF6",
          "polar": {
           "angularaxis": {
            "gridcolor": "white",
            "linecolor": "white",
            "ticks": ""
           },
           "bgcolor": "#E5ECF6",
           "radialaxis": {
            "gridcolor": "white",
            "linecolor": "white",
            "ticks": ""
           }
          },
          "scene": {
           "xaxis": {
            "backgroundcolor": "#E5ECF6",
            "gridcolor": "white",
            "gridwidth": 2,
            "linecolor": "white",
            "showbackground": true,
            "ticks": "",
            "zerolinecolor": "white"
           },
           "yaxis": {
            "backgroundcolor": "#E5ECF6",
            "gridcolor": "white",
            "gridwidth": 2,
            "linecolor": "white",
            "showbackground": true,
            "ticks": "",
            "zerolinecolor": "white"
           },
           "zaxis": {
            "backgroundcolor": "#E5ECF6",
            "gridcolor": "white",
            "gridwidth": 2,
            "linecolor": "white",
            "showbackground": true,
            "ticks": "",
            "zerolinecolor": "white"
           }
          },
          "shapedefaults": {
           "line": {
            "color": "#2a3f5f"
           }
          },
          "ternary": {
           "aaxis": {
            "gridcolor": "white",
            "linecolor": "white",
            "ticks": ""
           },
           "baxis": {
            "gridcolor": "white",
            "linecolor": "white",
            "ticks": ""
           },
           "bgcolor": "#E5ECF6",
           "caxis": {
            "gridcolor": "white",
            "linecolor": "white",
            "ticks": ""
           }
          },
          "title": {
           "x": 0.05
          },
          "xaxis": {
           "automargin": true,
           "gridcolor": "white",
           "linecolor": "white",
           "ticks": "",
           "title": {
            "standoff": 15
           },
           "zerolinecolor": "white",
           "zerolinewidth": 2
          },
          "yaxis": {
           "automargin": true,
           "gridcolor": "white",
           "linecolor": "white",
           "ticks": "",
           "title": {
            "standoff": 15
           },
           "zerolinecolor": "white",
           "zerolinewidth": 2
          }
         }
        },
        "xaxis": {
         "anchor": "y",
         "domain": [
          0,
          1
         ],
         "title": {
          "text": "States/UTs"
         }
        },
        "yaxis": {
         "anchor": "x",
         "domain": [
          0,
          1
         ],
         "title": {
          "text": "Residence_Dacoity_Cases reported"
         }
        }
       }
      },
      "text/html": [
       "<div>\n",
       "        \n",
       "        \n",
       "            <div id=\"ecaf548f-4a48-41e9-ab7c-d24400b80a38\" class=\"plotly-graph-div\" style=\"height:525px; width:100%;\"></div>\n",
       "            <script type=\"text/javascript\">\n",
       "                require([\"plotly\"], function(Plotly) {\n",
       "                    window.PLOTLYENV=window.PLOTLYENV || {};\n",
       "                    \n",
       "                if (document.getElementById(\"ecaf548f-4a48-41e9-ab7c-d24400b80a38\")) {\n",
       "                    Plotly.newPlot(\n",
       "                        'ecaf548f-4a48-41e9-ab7c-d24400b80a38',\n",
       "                        [{\"alignmentgroup\": \"True\", \"hovertemplate\": \"States/UTs=%{x}<br>Residence_Dacoity_Cases reported=%{y}<extra></extra>\", \"legendgroup\": \"\", \"marker\": {\"color\": \"#636efa\"}, \"name\": \"\", \"offsetgroup\": \"\", \"orientation\": \"v\", \"showlegend\": false, \"textposition\": \"auto\", \"type\": \"bar\", \"x\": [\"Andhra Pradesh\", \"Arunachal Pradesh\", \"Assam\", \"Bihar\", \"Chhattisgarh\", \"Goa\", \"Gujarat\", \"Haryana\", \"Himachal Pradesh\", \"Jammu & Kashmir\", \"Jharkhand\", \"Karnataka\", \"Kerala\", \"Madhya Pradesh\", \"Maharashtra\", \"Manipur\", \"Meghalaya\", \"Mizoram\", \"Nagaland\", \"Odisha\", \"Punjab\", \"Rajasthan\", \"Sikkim\", \"Tamil Nadu\", \"Telangana\", \"Tripura\", \"Uttar Pradesh\", \"Uttarakhand\", \"West Bengal\", \"A & N Islands\", \"Chandigarh\", \"D&N Haveli\", \"Daman & Diu\", \"Delhi UT\", \"Lakshadweep\", \"Puducherry\"], \"xaxis\": \"x\", \"y\": [27, 3, 144, 174, 27, 3, 125, 20, 0, 3, 110, 64, 19, 35, 161, 0, 10, 1, 7, 113, 8, 11, 0, 45, 30, 1, 121, 15, 56, 0, 0, 0, 0, 14, 0, 1], \"yaxis\": \"y\"}],\n",
       "                        {\"barmode\": \"relative\", \"legend\": {\"tracegroupgap\": 0}, \"margin\": {\"t\": 60}, \"template\": {\"data\": {\"bar\": [{\"error_x\": {\"color\": \"#2a3f5f\"}, \"error_y\": {\"color\": \"#2a3f5f\"}, \"marker\": {\"line\": {\"color\": \"#E5ECF6\", \"width\": 0.5}}, \"type\": \"bar\"}], \"barpolar\": [{\"marker\": {\"line\": {\"color\": \"#E5ECF6\", \"width\": 0.5}}, \"type\": \"barpolar\"}], \"carpet\": [{\"aaxis\": {\"endlinecolor\": \"#2a3f5f\", \"gridcolor\": \"white\", \"linecolor\": \"white\", \"minorgridcolor\": \"white\", \"startlinecolor\": \"#2a3f5f\"}, \"baxis\": {\"endlinecolor\": \"#2a3f5f\", \"gridcolor\": \"white\", \"linecolor\": \"white\", \"minorgridcolor\": \"white\", \"startlinecolor\": \"#2a3f5f\"}, \"type\": \"carpet\"}], \"choropleth\": [{\"colorbar\": {\"outlinewidth\": 0, \"ticks\": \"\"}, \"type\": \"choropleth\"}], \"contour\": [{\"colorbar\": {\"outlinewidth\": 0, \"ticks\": \"\"}, \"colorscale\": [[0.0, \"#0d0887\"], [0.1111111111111111, \"#46039f\"], [0.2222222222222222, \"#7201a8\"], [0.3333333333333333, \"#9c179e\"], [0.4444444444444444, \"#bd3786\"], [0.5555555555555556, \"#d8576b\"], [0.6666666666666666, \"#ed7953\"], [0.7777777777777778, \"#fb9f3a\"], [0.8888888888888888, \"#fdca26\"], [1.0, \"#f0f921\"]], \"type\": \"contour\"}], \"contourcarpet\": [{\"colorbar\": {\"outlinewidth\": 0, \"ticks\": \"\"}, \"type\": \"contourcarpet\"}], \"heatmap\": [{\"colorbar\": {\"outlinewidth\": 0, \"ticks\": \"\"}, \"colorscale\": [[0.0, \"#0d0887\"], [0.1111111111111111, \"#46039f\"], [0.2222222222222222, \"#7201a8\"], [0.3333333333333333, \"#9c179e\"], [0.4444444444444444, \"#bd3786\"], [0.5555555555555556, \"#d8576b\"], [0.6666666666666666, \"#ed7953\"], [0.7777777777777778, \"#fb9f3a\"], [0.8888888888888888, \"#fdca26\"], [1.0, \"#f0f921\"]], \"type\": \"heatmap\"}], \"heatmapgl\": [{\"colorbar\": {\"outlinewidth\": 0, \"ticks\": \"\"}, \"colorscale\": [[0.0, \"#0d0887\"], [0.1111111111111111, \"#46039f\"], [0.2222222222222222, \"#7201a8\"], [0.3333333333333333, \"#9c179e\"], [0.4444444444444444, \"#bd3786\"], [0.5555555555555556, \"#d8576b\"], [0.6666666666666666, \"#ed7953\"], [0.7777777777777778, \"#fb9f3a\"], [0.8888888888888888, \"#fdca26\"], [1.0, \"#f0f921\"]], \"type\": \"heatmapgl\"}], \"histogram\": [{\"marker\": {\"colorbar\": {\"outlinewidth\": 0, \"ticks\": \"\"}}, \"type\": \"histogram\"}], \"histogram2d\": [{\"colorbar\": {\"outlinewidth\": 0, \"ticks\": \"\"}, \"colorscale\": [[0.0, \"#0d0887\"], [0.1111111111111111, \"#46039f\"], [0.2222222222222222, \"#7201a8\"], [0.3333333333333333, \"#9c179e\"], [0.4444444444444444, \"#bd3786\"], [0.5555555555555556, \"#d8576b\"], [0.6666666666666666, \"#ed7953\"], [0.7777777777777778, \"#fb9f3a\"], [0.8888888888888888, \"#fdca26\"], [1.0, \"#f0f921\"]], \"type\": \"histogram2d\"}], \"histogram2dcontour\": [{\"colorbar\": {\"outlinewidth\": 0, \"ticks\": \"\"}, \"colorscale\": [[0.0, \"#0d0887\"], [0.1111111111111111, \"#46039f\"], [0.2222222222222222, \"#7201a8\"], [0.3333333333333333, \"#9c179e\"], [0.4444444444444444, \"#bd3786\"], [0.5555555555555556, \"#d8576b\"], [0.6666666666666666, \"#ed7953\"], [0.7777777777777778, \"#fb9f3a\"], [0.8888888888888888, \"#fdca26\"], [1.0, \"#f0f921\"]], \"type\": \"histogram2dcontour\"}], \"mesh3d\": [{\"colorbar\": {\"outlinewidth\": 0, \"ticks\": \"\"}, \"type\": \"mesh3d\"}], \"parcoords\": [{\"line\": {\"colorbar\": {\"outlinewidth\": 0, \"ticks\": \"\"}}, \"type\": \"parcoords\"}], \"pie\": [{\"automargin\": true, \"type\": \"pie\"}], \"scatter\": [{\"marker\": {\"colorbar\": {\"outlinewidth\": 0, \"ticks\": \"\"}}, \"type\": \"scatter\"}], \"scatter3d\": [{\"line\": {\"colorbar\": {\"outlinewidth\": 0, \"ticks\": \"\"}}, \"marker\": {\"colorbar\": {\"outlinewidth\": 0, \"ticks\": \"\"}}, \"type\": \"scatter3d\"}], \"scattercarpet\": [{\"marker\": {\"colorbar\": {\"outlinewidth\": 0, \"ticks\": \"\"}}, \"type\": \"scattercarpet\"}], \"scattergeo\": [{\"marker\": {\"colorbar\": {\"outlinewidth\": 0, \"ticks\": \"\"}}, \"type\": \"scattergeo\"}], \"scattergl\": [{\"marker\": {\"colorbar\": {\"outlinewidth\": 0, \"ticks\": \"\"}}, \"type\": \"scattergl\"}], \"scattermapbox\": [{\"marker\": {\"colorbar\": {\"outlinewidth\": 0, \"ticks\": \"\"}}, \"type\": \"scattermapbox\"}], \"scatterpolar\": [{\"marker\": {\"colorbar\": {\"outlinewidth\": 0, \"ticks\": \"\"}}, \"type\": \"scatterpolar\"}], \"scatterpolargl\": [{\"marker\": {\"colorbar\": {\"outlinewidth\": 0, \"ticks\": \"\"}}, \"type\": \"scatterpolargl\"}], \"scatterternary\": [{\"marker\": {\"colorbar\": {\"outlinewidth\": 0, \"ticks\": \"\"}}, \"type\": \"scatterternary\"}], \"surface\": [{\"colorbar\": {\"outlinewidth\": 0, \"ticks\": \"\"}, \"colorscale\": [[0.0, \"#0d0887\"], [0.1111111111111111, \"#46039f\"], [0.2222222222222222, \"#7201a8\"], [0.3333333333333333, \"#9c179e\"], [0.4444444444444444, \"#bd3786\"], [0.5555555555555556, \"#d8576b\"], [0.6666666666666666, \"#ed7953\"], [0.7777777777777778, \"#fb9f3a\"], [0.8888888888888888, \"#fdca26\"], [1.0, \"#f0f921\"]], \"type\": \"surface\"}], \"table\": [{\"cells\": {\"fill\": {\"color\": \"#EBF0F8\"}, \"line\": {\"color\": \"white\"}}, \"header\": {\"fill\": {\"color\": \"#C8D4E3\"}, \"line\": {\"color\": \"white\"}}, \"type\": \"table\"}]}, \"layout\": {\"annotationdefaults\": {\"arrowcolor\": \"#2a3f5f\", \"arrowhead\": 0, \"arrowwidth\": 1}, \"coloraxis\": {\"colorbar\": {\"outlinewidth\": 0, \"ticks\": \"\"}}, \"colorscale\": {\"diverging\": [[0, \"#8e0152\"], [0.1, \"#c51b7d\"], [0.2, \"#de77ae\"], [0.3, \"#f1b6da\"], [0.4, \"#fde0ef\"], [0.5, \"#f7f7f7\"], [0.6, \"#e6f5d0\"], [0.7, \"#b8e186\"], [0.8, \"#7fbc41\"], [0.9, \"#4d9221\"], [1, \"#276419\"]], \"sequential\": [[0.0, \"#0d0887\"], [0.1111111111111111, \"#46039f\"], [0.2222222222222222, \"#7201a8\"], [0.3333333333333333, \"#9c179e\"], [0.4444444444444444, \"#bd3786\"], [0.5555555555555556, \"#d8576b\"], [0.6666666666666666, \"#ed7953\"], [0.7777777777777778, \"#fb9f3a\"], [0.8888888888888888, \"#fdca26\"], [1.0, \"#f0f921\"]], \"sequentialminus\": [[0.0, \"#0d0887\"], [0.1111111111111111, \"#46039f\"], [0.2222222222222222, \"#7201a8\"], [0.3333333333333333, \"#9c179e\"], [0.4444444444444444, \"#bd3786\"], [0.5555555555555556, \"#d8576b\"], [0.6666666666666666, \"#ed7953\"], [0.7777777777777778, \"#fb9f3a\"], [0.8888888888888888, \"#fdca26\"], [1.0, \"#f0f921\"]]}, \"colorway\": [\"#636efa\", \"#EF553B\", \"#00cc96\", \"#ab63fa\", \"#FFA15A\", \"#19d3f3\", \"#FF6692\", \"#B6E880\", \"#FF97FF\", \"#FECB52\"], \"font\": {\"color\": \"#2a3f5f\"}, \"geo\": {\"bgcolor\": \"white\", \"lakecolor\": \"white\", \"landcolor\": \"#E5ECF6\", \"showlakes\": true, \"showland\": true, \"subunitcolor\": \"white\"}, \"hoverlabel\": {\"align\": \"left\"}, \"hovermode\": \"closest\", \"mapbox\": {\"style\": \"light\"}, \"paper_bgcolor\": \"white\", \"plot_bgcolor\": \"#E5ECF6\", \"polar\": {\"angularaxis\": {\"gridcolor\": \"white\", \"linecolor\": \"white\", \"ticks\": \"\"}, \"bgcolor\": \"#E5ECF6\", \"radialaxis\": {\"gridcolor\": \"white\", \"linecolor\": \"white\", \"ticks\": \"\"}}, \"scene\": {\"xaxis\": {\"backgroundcolor\": \"#E5ECF6\", \"gridcolor\": \"white\", \"gridwidth\": 2, \"linecolor\": \"white\", \"showbackground\": true, \"ticks\": \"\", \"zerolinecolor\": \"white\"}, \"yaxis\": {\"backgroundcolor\": \"#E5ECF6\", \"gridcolor\": \"white\", \"gridwidth\": 2, \"linecolor\": \"white\", \"showbackground\": true, \"ticks\": \"\", \"zerolinecolor\": \"white\"}, \"zaxis\": {\"backgroundcolor\": \"#E5ECF6\", \"gridcolor\": \"white\", \"gridwidth\": 2, \"linecolor\": \"white\", \"showbackground\": true, \"ticks\": \"\", \"zerolinecolor\": \"white\"}}, \"shapedefaults\": {\"line\": {\"color\": \"#2a3f5f\"}}, \"ternary\": {\"aaxis\": {\"gridcolor\": \"white\", \"linecolor\": \"white\", \"ticks\": \"\"}, \"baxis\": {\"gridcolor\": \"white\", \"linecolor\": \"white\", \"ticks\": \"\"}, \"bgcolor\": \"#E5ECF6\", \"caxis\": {\"gridcolor\": \"white\", \"linecolor\": \"white\", \"ticks\": \"\"}}, \"title\": {\"x\": 0.05}, \"xaxis\": {\"automargin\": true, \"gridcolor\": \"white\", \"linecolor\": \"white\", \"ticks\": \"\", \"title\": {\"standoff\": 15}, \"zerolinecolor\": \"white\", \"zerolinewidth\": 2}, \"yaxis\": {\"automargin\": true, \"gridcolor\": \"white\", \"linecolor\": \"white\", \"ticks\": \"\", \"title\": {\"standoff\": 15}, \"zerolinecolor\": \"white\", \"zerolinewidth\": 2}}}, \"xaxis\": {\"anchor\": \"y\", \"domain\": [0.0, 1.0], \"title\": {\"text\": \"States/UTs\"}}, \"yaxis\": {\"anchor\": \"x\", \"domain\": [0.0, 1.0], \"title\": {\"text\": \"Residence_Dacoity_Cases reported\"}}},\n",
       "                        {\"responsive\": true}\n",
       "                    ).then(function(){\n",
       "                            \n",
       "var gd = document.getElementById('ecaf548f-4a48-41e9-ab7c-d24400b80a38');\n",
       "var x = new MutationObserver(function (mutations, observer) {{\n",
       "        var display = window.getComputedStyle(gd).display;\n",
       "        if (!display || display === 'none') {{\n",
       "            console.log([gd, 'removed!']);\n",
       "            Plotly.purge(gd);\n",
       "            observer.disconnect();\n",
       "        }}\n",
       "}});\n",
       "\n",
       "// Listen for the removal of the full notebook cells\n",
       "var notebookContainer = gd.closest('#notebook-container');\n",
       "if (notebookContainer) {{\n",
       "    x.observe(notebookContainer, {childList: true});\n",
       "}}\n",
       "\n",
       "// Listen for the clearing of the current output cell\n",
       "var outputEl = gd.closest('.output');\n",
       "if (outputEl) {{\n",
       "    x.observe(outputEl, {childList: true});\n",
       "}}\n",
       "\n",
       "                        })\n",
       "                };\n",
       "                });\n",
       "            </script>\n",
       "        </div>"
      ]
     },
     "metadata": {},
     "output_type": "display_data"
    }
   ],
   "source": [
    "import plotly.express as px\n",
    "# data_canada = px.data.gapminder().query(\"country == 'Canada'\")\n",
    "fig = px.bar(df, x='States/UTs', y='Residence_Dacoity_Cases reported')\n",
    "fig.show()\n"
   ]
  },
  {
   "cell_type": "markdown",
   "metadata": {},
   "source": [
    "We can see from the above graph as States Bihar,UP and Maharashtra have reported "
   ]
  }
 ],
 "metadata": {
  "kernelspec": {
   "display_name": "Python 3",
   "language": "python",
   "name": "python3"
  },
  "language_info": {
   "codemirror_mode": {
    "name": "ipython",
    "version": 3
   },
   "file_extension": ".py",
   "mimetype": "text/x-python",
   "name": "python",
   "nbconvert_exporter": "python",
   "pygments_lexer": "ipython3",
   "version": "3.7.6"
  }
 },
 "nbformat": 4,
 "nbformat_minor": 4
}
