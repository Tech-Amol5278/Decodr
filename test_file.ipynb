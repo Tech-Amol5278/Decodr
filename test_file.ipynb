{
  "nbformat": 4,
  "nbformat_minor": 0,
  "metadata": {
    "colab": {
      "name": "test file.ipynb",
      "provenance": [],
      "authorship_tag": "ABX9TyMHpKfFg9Ny74z045wdVZi8",
      "include_colab_link": true
    },
    "kernelspec": {
      "name": "python3",
      "display_name": "Python 3"
    }
  },
  "cells": [
    {
      "cell_type": "markdown",
      "metadata": {
        "id": "view-in-github",
        "colab_type": "text"
      },
      "source": [
        "<a href=\"https://colab.research.google.com/github/Tech-Amol5278/Decodr/blob/master/test_file.ipynb\" target=\"_parent\"><img src=\"https://colab.research.google.com/assets/colab-badge.svg\" alt=\"Open In Colab\"/></a>"
      ]
    },
    {
      "cell_type": "code",
      "metadata": {
        "id": "JlUiA0m8cn8f",
        "colab_type": "code",
        "colab": {}
      },
      "source": [
        "Intro to Jupyter and Google Collab"
      ],
      "execution_count": 0,
      "outputs": []
    }
  ]
}