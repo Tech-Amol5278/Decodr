{
  "nbformat": 4,
  "nbformat_minor": 0,
  "metadata": {
    "colab": {
      "name": "CovidDataCreation.ipynb",
      "provenance": [],
      "collapsed_sections": [],
      "include_colab_link": true
    },
    "kernelspec": {
      "name": "python3",
      "display_name": "Python 3"
    }
  },
  "cells": [
    {
      "cell_type": "markdown",
      "metadata": {
        "id": "view-in-github",
        "colab_type": "text"
      },
      "source": [
        "<a href=\"https://colab.research.google.com/github/Tech-Amol5278/Decodr/blob/master/CovidDataCreation.ipynb\" target=\"_parent\"><img src=\"https://colab.research.google.com/assets/colab-badge.svg\" alt=\"Open In Colab\"/></a>"
      ]
    },
    {
      "cell_type": "code",
      "metadata": {
        "id": "4iu4_G_8uPJF",
        "colab_type": "code",
        "colab": {}
      },
      "source": [
        "import pandas as pd\n",
        "from geopy.geocoders import Nominatim  # to library to work on Geo\n",
        "import pdb"
      ],
      "execution_count": 0,
      "outputs": []
    },
    {
      "cell_type": "code",
      "metadata": {
        "id": "zMgZjpag0rRu",
        "colab_type": "code",
        "colab": {}
      },
      "source": [
        "import datetime\n",
        " \n",
        "def date_range(start, end):\n",
        "    r = (end+datetime.timedelta(days=1)-start).days\n",
        "    return [start+datetime.timedelta(days=i) for i in range(r)]\n",
        " \n",
        "start = datetime.date(2020,3,22)\n",
        "end = datetime.date(2020,4,24)\n",
        "dateList = date_range(start, end)\n",
        "datelist = []\n",
        "for i in dateList :\n",
        "  datelist.append(i.strftime(\"%m-%d-%Y\")) \n"
      ],
      "execution_count": 0,
      "outputs": []
    },
    {
      "cell_type": "code",
      "metadata": {
        "id": "Tx639nqA3qT9",
        "colab_type": "code",
        "colab": {
          "base_uri": "https://localhost:8080/",
          "height": 34
        },
        "outputId": "20c6606e-4e55-4393-d887-e895302832bc"
      },
      "source": [
        "list_data = []\n",
        "for i in datelist : \n",
        "  try :\n",
        "    df = pd.read_csv('https://github.com/CSSEGISandData/COVID-19/raw/master/csse_covid_19_data/csse_covid_19_daily_reports/{}.csv'.format(i))\n",
        "    df['date'] = i\n",
        "    list_data.append(df)\n",
        "  except : \n",
        "    print(i)\n",
        "\n",
        "# concat all the list elements in dataframe\n",
        "df = pd.concat(list_data , ignore_index= True)"
      ],
      "execution_count": 45,
      "outputs": [
        {
          "output_type": "stream",
          "text": [
            "04-24-2020\n"
          ],
          "name": "stdout"
        }
      ]
    },
    {
      "cell_type": "code",
      "metadata": {
        "id": "1GvrvMra5OEJ",
        "colab_type": "code",
        "outputId": "ccfc7f30-82ee-4329-d304-de2801fa307a",
        "colab": {
          "base_uri": "https://localhost:8080/",
          "height": 193
        }
      },
      "source": [
        "list_data[0].head(3)"
      ],
      "execution_count": 28,
      "outputs": [
        {
          "output_type": "execute_result",
          "data": {
            "text/html": [
              "<div>\n",
              "<style scoped>\n",
              "    .dataframe tbody tr th:only-of-type {\n",
              "        vertical-align: middle;\n",
              "    }\n",
              "\n",
              "    .dataframe tbody tr th {\n",
              "        vertical-align: top;\n",
              "    }\n",
              "\n",
              "    .dataframe thead th {\n",
              "        text-align: right;\n",
              "    }\n",
              "</style>\n",
              "<table border=\"1\" class=\"dataframe\">\n",
              "  <thead>\n",
              "    <tr style=\"text-align: right;\">\n",
              "      <th></th>\n",
              "      <th>FIPS</th>\n",
              "      <th>Admin2</th>\n",
              "      <th>Province_State</th>\n",
              "      <th>Country_Region</th>\n",
              "      <th>Last_Update</th>\n",
              "      <th>Lat</th>\n",
              "      <th>Long_</th>\n",
              "      <th>Confirmed</th>\n",
              "      <th>Deaths</th>\n",
              "      <th>Recovered</th>\n",
              "      <th>Active</th>\n",
              "      <th>Combined_Key</th>\n",
              "      <th>date</th>\n",
              "    </tr>\n",
              "  </thead>\n",
              "  <tbody>\n",
              "    <tr>\n",
              "      <th>0</th>\n",
              "      <td>36061.0</td>\n",
              "      <td>New York City</td>\n",
              "      <td>New York</td>\n",
              "      <td>US</td>\n",
              "      <td>3/22/20 23:45</td>\n",
              "      <td>40.767273</td>\n",
              "      <td>-73.971526</td>\n",
              "      <td>9654</td>\n",
              "      <td>63</td>\n",
              "      <td>0</td>\n",
              "      <td>0</td>\n",
              "      <td>New York City, New York, US</td>\n",
              "      <td>03-22-2020</td>\n",
              "    </tr>\n",
              "    <tr>\n",
              "      <th>1</th>\n",
              "      <td>36059.0</td>\n",
              "      <td>Nassau</td>\n",
              "      <td>New York</td>\n",
              "      <td>US</td>\n",
              "      <td>3/22/20 23:45</td>\n",
              "      <td>40.740665</td>\n",
              "      <td>-73.589419</td>\n",
              "      <td>1900</td>\n",
              "      <td>4</td>\n",
              "      <td>0</td>\n",
              "      <td>0</td>\n",
              "      <td>Nassau, New York, US</td>\n",
              "      <td>03-22-2020</td>\n",
              "    </tr>\n",
              "    <tr>\n",
              "      <th>2</th>\n",
              "      <td>36119.0</td>\n",
              "      <td>Westchester</td>\n",
              "      <td>New York</td>\n",
              "      <td>US</td>\n",
              "      <td>3/22/20 23:45</td>\n",
              "      <td>41.162784</td>\n",
              "      <td>-73.757417</td>\n",
              "      <td>1873</td>\n",
              "      <td>0</td>\n",
              "      <td>0</td>\n",
              "      <td>0</td>\n",
              "      <td>Westchester, New York, US</td>\n",
              "      <td>03-22-2020</td>\n",
              "    </tr>\n",
              "  </tbody>\n",
              "</table>\n",
              "</div>"
            ],
            "text/plain": [
              "      FIPS         Admin2  ...                 Combined_Key        date\n",
              "0  36061.0  New York City  ...  New York City, New York, US  03-22-2020\n",
              "1  36059.0         Nassau  ...         Nassau, New York, US  03-22-2020\n",
              "2  36119.0    Westchester  ...    Westchester, New York, US  03-22-2020\n",
              "\n",
              "[3 rows x 13 columns]"
            ]
          },
          "metadata": {
            "tags": []
          },
          "execution_count": 28
        }
      ]
    },
    {
      "cell_type": "code",
      "metadata": {
        "id": "10LAod753bEI",
        "colab_type": "code",
        "colab": {}
      },
      "source": [
        ""
      ],
      "execution_count": 0,
      "outputs": []
    },
    {
      "cell_type": "code",
      "metadata": {
        "id": "WxhmQMjb5lNN",
        "colab_type": "code",
        "outputId": "b62feabf-46e4-4453-b8a4-b2ee0473a0a7",
        "colab": {
          "base_uri": "https://localhost:8080/",
          "height": 221
        }
      },
      "source": [
        "df['Country_Region']"
      ],
      "execution_count": 30,
      "outputs": [
        {
          "output_type": "execute_result",
          "data": {
            "text/plain": [
              "0                        US\n",
              "1                        US\n",
              "2                        US\n",
              "3                        US\n",
              "4                        US\n",
              "                ...        \n",
              "94138    West Bank and Gaza\n",
              "94139        Western Sahara\n",
              "94140                 Yemen\n",
              "94141                Zambia\n",
              "94142              Zimbabwe\n",
              "Name: Country_Region, Length: 94143, dtype: object"
            ]
          },
          "metadata": {
            "tags": []
          },
          "execution_count": 30
        }
      ]
    },
    {
      "cell_type": "code",
      "metadata": {
        "id": "mLiVomO6BeSr",
        "colab_type": "code",
        "colab": {}
      },
      "source": [
        "df['Death_Per_Confirmed'] = (df['Deaths'] / df['Confirmed'])*100"
      ],
      "execution_count": 0,
      "outputs": []
    },
    {
      "cell_type": "code",
      "metadata": {
        "id": "r2gPvuUGAzVq",
        "colab_type": "code",
        "outputId": "2378f4c7-e2b8-439a-95b3-c7c272719672",
        "colab": {
          "base_uri": "https://localhost:8080/",
          "height": 419
        }
      },
      "source": [
        "df[['Country_Region','Confirmed','Recovered','Deaths','Death_Per_Confirmed']]"
      ],
      "execution_count": 32,
      "outputs": [
        {
          "output_type": "execute_result",
          "data": {
            "text/html": [
              "<div>\n",
              "<style scoped>\n",
              "    .dataframe tbody tr th:only-of-type {\n",
              "        vertical-align: middle;\n",
              "    }\n",
              "\n",
              "    .dataframe tbody tr th {\n",
              "        vertical-align: top;\n",
              "    }\n",
              "\n",
              "    .dataframe thead th {\n",
              "        text-align: right;\n",
              "    }\n",
              "</style>\n",
              "<table border=\"1\" class=\"dataframe\">\n",
              "  <thead>\n",
              "    <tr style=\"text-align: right;\">\n",
              "      <th></th>\n",
              "      <th>Country_Region</th>\n",
              "      <th>Confirmed</th>\n",
              "      <th>Recovered</th>\n",
              "      <th>Deaths</th>\n",
              "      <th>Death_Per_Confirmed</th>\n",
              "    </tr>\n",
              "  </thead>\n",
              "  <tbody>\n",
              "    <tr>\n",
              "      <th>0</th>\n",
              "      <td>US</td>\n",
              "      <td>9654</td>\n",
              "      <td>0</td>\n",
              "      <td>63</td>\n",
              "      <td>0.652579</td>\n",
              "    </tr>\n",
              "    <tr>\n",
              "      <th>1</th>\n",
              "      <td>US</td>\n",
              "      <td>1900</td>\n",
              "      <td>0</td>\n",
              "      <td>4</td>\n",
              "      <td>0.210526</td>\n",
              "    </tr>\n",
              "    <tr>\n",
              "      <th>2</th>\n",
              "      <td>US</td>\n",
              "      <td>1873</td>\n",
              "      <td>0</td>\n",
              "      <td>0</td>\n",
              "      <td>0.000000</td>\n",
              "    </tr>\n",
              "    <tr>\n",
              "      <th>3</th>\n",
              "      <td>US</td>\n",
              "      <td>1034</td>\n",
              "      <td>0</td>\n",
              "      <td>9</td>\n",
              "      <td>0.870406</td>\n",
              "    </tr>\n",
              "    <tr>\n",
              "      <th>4</th>\n",
              "      <td>US</td>\n",
              "      <td>455</td>\n",
              "      <td>0</td>\n",
              "      <td>1</td>\n",
              "      <td>0.219780</td>\n",
              "    </tr>\n",
              "    <tr>\n",
              "      <th>...</th>\n",
              "      <td>...</td>\n",
              "      <td>...</td>\n",
              "      <td>...</td>\n",
              "      <td>...</td>\n",
              "      <td>...</td>\n",
              "    </tr>\n",
              "    <tr>\n",
              "      <th>94138</th>\n",
              "      <td>West Bank and Gaza</td>\n",
              "      <td>466</td>\n",
              "      <td>71</td>\n",
              "      <td>4</td>\n",
              "      <td>0.858369</td>\n",
              "    </tr>\n",
              "    <tr>\n",
              "      <th>94139</th>\n",
              "      <td>Western Sahara</td>\n",
              "      <td>6</td>\n",
              "      <td>0</td>\n",
              "      <td>0</td>\n",
              "      <td>0.000000</td>\n",
              "    </tr>\n",
              "    <tr>\n",
              "      <th>94140</th>\n",
              "      <td>Yemen</td>\n",
              "      <td>1</td>\n",
              "      <td>0</td>\n",
              "      <td>0</td>\n",
              "      <td>0.000000</td>\n",
              "    </tr>\n",
              "    <tr>\n",
              "      <th>94141</th>\n",
              "      <td>Zambia</td>\n",
              "      <td>70</td>\n",
              "      <td>35</td>\n",
              "      <td>3</td>\n",
              "      <td>4.285714</td>\n",
              "    </tr>\n",
              "    <tr>\n",
              "      <th>94142</th>\n",
              "      <td>Zimbabwe</td>\n",
              "      <td>28</td>\n",
              "      <td>2</td>\n",
              "      <td>3</td>\n",
              "      <td>10.714286</td>\n",
              "    </tr>\n",
              "  </tbody>\n",
              "</table>\n",
              "<p>94143 rows × 5 columns</p>\n",
              "</div>"
            ],
            "text/plain": [
              "           Country_Region  Confirmed  Recovered  Deaths  Death_Per_Confirmed\n",
              "0                      US       9654          0      63             0.652579\n",
              "1                      US       1900          0       4             0.210526\n",
              "2                      US       1873          0       0             0.000000\n",
              "3                      US       1034          0       9             0.870406\n",
              "4                      US        455          0       1             0.219780\n",
              "...                   ...        ...        ...     ...                  ...\n",
              "94138  West Bank and Gaza        466         71       4             0.858369\n",
              "94139      Western Sahara          6          0       0             0.000000\n",
              "94140               Yemen          1          0       0             0.000000\n",
              "94141              Zambia         70         35       3             4.285714\n",
              "94142            Zimbabwe         28          2       3            10.714286\n",
              "\n",
              "[94143 rows x 5 columns]"
            ]
          },
          "metadata": {
            "tags": []
          },
          "execution_count": 32
        }
      ]
    },
    {
      "cell_type": "code",
      "metadata": {
        "id": "YjyR6kXyCgC1",
        "colab_type": "code",
        "outputId": "b5df2a1d-25ea-4de4-c151-6fc3669d8c2d",
        "colab": {
          "base_uri": "https://localhost:8080/",
          "height": 779
        }
      },
      "source": [
        "df[(df['Country_Region'] == \"US\") & (df['Deaths'] > 0)]"
      ],
      "execution_count": 33,
      "outputs": [
        {
          "output_type": "execute_result",
          "data": {
            "text/html": [
              "<div>\n",
              "<style scoped>\n",
              "    .dataframe tbody tr th:only-of-type {\n",
              "        vertical-align: middle;\n",
              "    }\n",
              "\n",
              "    .dataframe tbody tr th {\n",
              "        vertical-align: top;\n",
              "    }\n",
              "\n",
              "    .dataframe thead th {\n",
              "        text-align: right;\n",
              "    }\n",
              "</style>\n",
              "<table border=\"1\" class=\"dataframe\">\n",
              "  <thead>\n",
              "    <tr style=\"text-align: right;\">\n",
              "      <th></th>\n",
              "      <th>FIPS</th>\n",
              "      <th>Admin2</th>\n",
              "      <th>Province_State</th>\n",
              "      <th>Country_Region</th>\n",
              "      <th>Last_Update</th>\n",
              "      <th>Lat</th>\n",
              "      <th>Long_</th>\n",
              "      <th>Confirmed</th>\n",
              "      <th>Deaths</th>\n",
              "      <th>Recovered</th>\n",
              "      <th>Active</th>\n",
              "      <th>Combined_Key</th>\n",
              "      <th>date</th>\n",
              "      <th>Death_Per_Confirmed</th>\n",
              "    </tr>\n",
              "  </thead>\n",
              "  <tbody>\n",
              "    <tr>\n",
              "      <th>0</th>\n",
              "      <td>36061.0</td>\n",
              "      <td>New York City</td>\n",
              "      <td>New York</td>\n",
              "      <td>US</td>\n",
              "      <td>3/22/20 23:45</td>\n",
              "      <td>40.767273</td>\n",
              "      <td>-73.971526</td>\n",
              "      <td>9654</td>\n",
              "      <td>63</td>\n",
              "      <td>0</td>\n",
              "      <td>0</td>\n",
              "      <td>New York City, New York, US</td>\n",
              "      <td>03-22-2020</td>\n",
              "      <td>0.652579</td>\n",
              "    </tr>\n",
              "    <tr>\n",
              "      <th>1</th>\n",
              "      <td>36059.0</td>\n",
              "      <td>Nassau</td>\n",
              "      <td>New York</td>\n",
              "      <td>US</td>\n",
              "      <td>3/22/20 23:45</td>\n",
              "      <td>40.740665</td>\n",
              "      <td>-73.589419</td>\n",
              "      <td>1900</td>\n",
              "      <td>4</td>\n",
              "      <td>0</td>\n",
              "      <td>0</td>\n",
              "      <td>Nassau, New York, US</td>\n",
              "      <td>03-22-2020</td>\n",
              "      <td>0.210526</td>\n",
              "    </tr>\n",
              "    <tr>\n",
              "      <th>3</th>\n",
              "      <td>36103.0</td>\n",
              "      <td>Suffolk</td>\n",
              "      <td>New York</td>\n",
              "      <td>US</td>\n",
              "      <td>3/22/20 23:45</td>\n",
              "      <td>40.883201</td>\n",
              "      <td>-72.801217</td>\n",
              "      <td>1034</td>\n",
              "      <td>9</td>\n",
              "      <td>0</td>\n",
              "      <td>0</td>\n",
              "      <td>Suffolk, New York, US</td>\n",
              "      <td>03-22-2020</td>\n",
              "      <td>0.870406</td>\n",
              "    </tr>\n",
              "    <tr>\n",
              "      <th>4</th>\n",
              "      <td>36087.0</td>\n",
              "      <td>Rockland</td>\n",
              "      <td>New York</td>\n",
              "      <td>US</td>\n",
              "      <td>3/22/20 23:45</td>\n",
              "      <td>41.150279</td>\n",
              "      <td>-74.025605</td>\n",
              "      <td>455</td>\n",
              "      <td>1</td>\n",
              "      <td>0</td>\n",
              "      <td>0</td>\n",
              "      <td>Rockland, New York, US</td>\n",
              "      <td>03-22-2020</td>\n",
              "      <td>0.219780</td>\n",
              "    </tr>\n",
              "    <tr>\n",
              "      <th>8</th>\n",
              "      <td>36055.0</td>\n",
              "      <td>Monroe</td>\n",
              "      <td>New York</td>\n",
              "      <td>US</td>\n",
              "      <td>3/22/20 23:45</td>\n",
              "      <td>43.146389</td>\n",
              "      <td>-77.693229</td>\n",
              "      <td>68</td>\n",
              "      <td>1</td>\n",
              "      <td>0</td>\n",
              "      <td>0</td>\n",
              "      <td>Monroe, New York, US</td>\n",
              "      <td>03-22-2020</td>\n",
              "      <td>1.470588</td>\n",
              "    </tr>\n",
              "    <tr>\n",
              "      <th>...</th>\n",
              "      <td>...</td>\n",
              "      <td>...</td>\n",
              "      <td>...</td>\n",
              "      <td>...</td>\n",
              "      <td>...</td>\n",
              "      <td>...</td>\n",
              "      <td>...</td>\n",
              "      <td>...</td>\n",
              "      <td>...</td>\n",
              "      <td>...</td>\n",
              "      <td>...</td>\n",
              "      <td>...</td>\n",
              "      <td>...</td>\n",
              "      <td>...</td>\n",
              "    </tr>\n",
              "    <tr>\n",
              "      <th>93870</th>\n",
              "      <td>4027.0</td>\n",
              "      <td>Yuma</td>\n",
              "      <td>Arizona</td>\n",
              "      <td>US</td>\n",
              "      <td>2020-04-21 23:30:50</td>\n",
              "      <td>32.768957</td>\n",
              "      <td>-113.906667</td>\n",
              "      <td>32</td>\n",
              "      <td>1</td>\n",
              "      <td>0</td>\n",
              "      <td>31</td>\n",
              "      <td>Yuma, Arizona, US</td>\n",
              "      <td>04-21-2020</td>\n",
              "      <td>3.125000</td>\n",
              "    </tr>\n",
              "    <tr>\n",
              "      <th>93900</th>\n",
              "      <td>66.0</td>\n",
              "      <td>NaN</td>\n",
              "      <td>Guam</td>\n",
              "      <td>US</td>\n",
              "      <td>2020-04-21 23:30:50</td>\n",
              "      <td>13.444300</td>\n",
              "      <td>144.793700</td>\n",
              "      <td>136</td>\n",
              "      <td>5</td>\n",
              "      <td>0</td>\n",
              "      <td>131</td>\n",
              "      <td>Guam, US</td>\n",
              "      <td>04-21-2020</td>\n",
              "      <td>3.676471</td>\n",
              "    </tr>\n",
              "    <tr>\n",
              "      <th>93927</th>\n",
              "      <td>69.0</td>\n",
              "      <td>NaN</td>\n",
              "      <td>Northern Mariana Islands</td>\n",
              "      <td>US</td>\n",
              "      <td>2020-04-21 23:30:50</td>\n",
              "      <td>15.097900</td>\n",
              "      <td>145.673900</td>\n",
              "      <td>14</td>\n",
              "      <td>2</td>\n",
              "      <td>0</td>\n",
              "      <td>12</td>\n",
              "      <td>Northern Mariana Islands, US</td>\n",
              "      <td>04-21-2020</td>\n",
              "      <td>14.285714</td>\n",
              "    </tr>\n",
              "    <tr>\n",
              "      <th>93933</th>\n",
              "      <td>72.0</td>\n",
              "      <td>NaN</td>\n",
              "      <td>Puerto Rico</td>\n",
              "      <td>US</td>\n",
              "      <td>2020-04-21 23:30:50</td>\n",
              "      <td>18.220800</td>\n",
              "      <td>-66.590100</td>\n",
              "      <td>1298</td>\n",
              "      <td>64</td>\n",
              "      <td>0</td>\n",
              "      <td>1234</td>\n",
              "      <td>Puerto Rico, US</td>\n",
              "      <td>04-21-2020</td>\n",
              "      <td>4.930663</td>\n",
              "    </tr>\n",
              "    <tr>\n",
              "      <th>93956</th>\n",
              "      <td>78.0</td>\n",
              "      <td>NaN</td>\n",
              "      <td>Virgin Islands</td>\n",
              "      <td>US</td>\n",
              "      <td>2020-04-21 23:30:50</td>\n",
              "      <td>18.335800</td>\n",
              "      <td>-64.896300</td>\n",
              "      <td>53</td>\n",
              "      <td>3</td>\n",
              "      <td>0</td>\n",
              "      <td>50</td>\n",
              "      <td>Virgin Islands, US</td>\n",
              "      <td>04-21-2020</td>\n",
              "      <td>5.660377</td>\n",
              "    </tr>\n",
              "  </tbody>\n",
              "</table>\n",
              "<p>23445 rows × 14 columns</p>\n",
              "</div>"
            ],
            "text/plain": [
              "          FIPS         Admin2  ...        date Death_Per_Confirmed\n",
              "0      36061.0  New York City  ...  03-22-2020            0.652579\n",
              "1      36059.0         Nassau  ...  03-22-2020            0.210526\n",
              "3      36103.0        Suffolk  ...  03-22-2020            0.870406\n",
              "4      36087.0       Rockland  ...  03-22-2020            0.219780\n",
              "8      36055.0         Monroe  ...  03-22-2020            1.470588\n",
              "...        ...            ...  ...         ...                 ...\n",
              "93870   4027.0           Yuma  ...  04-21-2020            3.125000\n",
              "93900     66.0            NaN  ...  04-21-2020            3.676471\n",
              "93927     69.0            NaN  ...  04-21-2020           14.285714\n",
              "93933     72.0            NaN  ...  04-21-2020            4.930663\n",
              "93956     78.0            NaN  ...  04-21-2020            5.660377\n",
              "\n",
              "[23445 rows x 14 columns]"
            ]
          },
          "metadata": {
            "tags": []
          },
          "execution_count": 33
        }
      ]
    },
    {
      "cell_type": "code",
      "metadata": {
        "id": "AZHsDEG9A79A",
        "colab_type": "code",
        "outputId": "35ba4c5a-6bb7-4a12-9005-6cda5fdcd146",
        "colab": {
          "base_uri": "https://localhost:8080/",
          "height": 264
        }
      },
      "source": [
        "df[(df['Country_Region'] == 'India') | (df['Country_Region'] == 'US')].head(3)"
      ],
      "execution_count": 34,
      "outputs": [
        {
          "output_type": "execute_result",
          "data": {
            "text/html": [
              "<div>\n",
              "<style scoped>\n",
              "    .dataframe tbody tr th:only-of-type {\n",
              "        vertical-align: middle;\n",
              "    }\n",
              "\n",
              "    .dataframe tbody tr th {\n",
              "        vertical-align: top;\n",
              "    }\n",
              "\n",
              "    .dataframe thead th {\n",
              "        text-align: right;\n",
              "    }\n",
              "</style>\n",
              "<table border=\"1\" class=\"dataframe\">\n",
              "  <thead>\n",
              "    <tr style=\"text-align: right;\">\n",
              "      <th></th>\n",
              "      <th>FIPS</th>\n",
              "      <th>Admin2</th>\n",
              "      <th>Province_State</th>\n",
              "      <th>Country_Region</th>\n",
              "      <th>Last_Update</th>\n",
              "      <th>Lat</th>\n",
              "      <th>Long_</th>\n",
              "      <th>Confirmed</th>\n",
              "      <th>Deaths</th>\n",
              "      <th>Recovered</th>\n",
              "      <th>Active</th>\n",
              "      <th>Combined_Key</th>\n",
              "      <th>date</th>\n",
              "      <th>Death_Per_Confirmed</th>\n",
              "    </tr>\n",
              "  </thead>\n",
              "  <tbody>\n",
              "    <tr>\n",
              "      <th>0</th>\n",
              "      <td>36061.0</td>\n",
              "      <td>New York City</td>\n",
              "      <td>New York</td>\n",
              "      <td>US</td>\n",
              "      <td>3/22/20 23:45</td>\n",
              "      <td>40.767273</td>\n",
              "      <td>-73.971526</td>\n",
              "      <td>9654</td>\n",
              "      <td>63</td>\n",
              "      <td>0</td>\n",
              "      <td>0</td>\n",
              "      <td>New York City, New York, US</td>\n",
              "      <td>03-22-2020</td>\n",
              "      <td>0.652579</td>\n",
              "    </tr>\n",
              "    <tr>\n",
              "      <th>1</th>\n",
              "      <td>36059.0</td>\n",
              "      <td>Nassau</td>\n",
              "      <td>New York</td>\n",
              "      <td>US</td>\n",
              "      <td>3/22/20 23:45</td>\n",
              "      <td>40.740665</td>\n",
              "      <td>-73.589419</td>\n",
              "      <td>1900</td>\n",
              "      <td>4</td>\n",
              "      <td>0</td>\n",
              "      <td>0</td>\n",
              "      <td>Nassau, New York, US</td>\n",
              "      <td>03-22-2020</td>\n",
              "      <td>0.210526</td>\n",
              "    </tr>\n",
              "    <tr>\n",
              "      <th>2</th>\n",
              "      <td>36119.0</td>\n",
              "      <td>Westchester</td>\n",
              "      <td>New York</td>\n",
              "      <td>US</td>\n",
              "      <td>3/22/20 23:45</td>\n",
              "      <td>41.162784</td>\n",
              "      <td>-73.757417</td>\n",
              "      <td>1873</td>\n",
              "      <td>0</td>\n",
              "      <td>0</td>\n",
              "      <td>0</td>\n",
              "      <td>Westchester, New York, US</td>\n",
              "      <td>03-22-2020</td>\n",
              "      <td>0.000000</td>\n",
              "    </tr>\n",
              "  </tbody>\n",
              "</table>\n",
              "</div>"
            ],
            "text/plain": [
              "      FIPS         Admin2  ...        date Death_Per_Confirmed\n",
              "0  36061.0  New York City  ...  03-22-2020            0.652579\n",
              "1  36059.0         Nassau  ...  03-22-2020            0.210526\n",
              "2  36119.0    Westchester  ...  03-22-2020            0.000000\n",
              "\n",
              "[3 rows x 14 columns]"
            ]
          },
          "metadata": {
            "tags": []
          },
          "execution_count": 34
        }
      ]
    },
    {
      "cell_type": "markdown",
      "metadata": {
        "id": "2UDkkOzHAk2Y",
        "colab_type": "text"
      },
      "source": [
        "Added by Amol:\n",
        "\n",
        "Exisiting data does not have locations/states for India, Adding locations based on lats and logs available\n",
        "\n"
      ]
    },
    {
      "cell_type": "code",
      "metadata": {
        "id": "s8TPAdi7GcEr",
        "colab_type": "code",
        "colab": {}
      },
      "source": [
        "# addition of new column in df\n",
        "df['locations'] = 'NA'\n"
      ],
      "execution_count": 0,
      "outputs": []
    },
    {
      "cell_type": "code",
      "metadata": {
        "id": "5Mbv6v7rB5fb",
        "colab_type": "code",
        "outputId": "48ddec8c-77fa-4668-e033-2b5018503bdc",
        "colab": {
          "base_uri": "https://localhost:8080/",
          "height": 292
        }
      },
      "source": [
        "# \n",
        "geolocator = Nominatim(user_agent=\"Covid analysis\")\n",
        "# loc = geolocator.reverse(\"52.509669, 13.376294\")\n",
        "# print(loc.address)\n",
        "\n",
        "# df['Lat'].df['Long_'].head(3) \n",
        "df.locations = df[\"Lat\"].astype(str) +\",\"+ df[\"Long_\"].astype(str) \n",
        "\n",
        "# loc_var = \"40.740665,-73.589419\"\n",
        "# test_var = geolocator.reverse(loc_var)\n",
        "# test_var\n",
        "\n",
        "# update apporach1 : using lambda\n",
        "  # df['address'] = df['locations'].apply(lambda x: geolocator.reverse(x) )\n",
        "\n",
        "# update apporach2(test on first 3 rows) : using for loops  \n",
        "#pdb.set_trace()\n",
        "n = 0\n",
        "for i in df[(df['Country_Region'].str.lower() == 'india')].head(3):\n",
        "    # print(i)\n",
        "    ip = i.index\n",
        "    print(i)\n",
        "    # loc = str(df.loc[ [ip],[\"Lat\"] ].astype(str) +\",\"+ df.loc[ [ip],[\"Long_\"] ].astype(str) )\n",
        "    # print(loc)\n",
        "    # print(type(loc))\n",
        "    # df['address'] = geolocator.reverse(loc)\n",
        "    n += 1 \n",
        "\n",
        "\n"
      ],
      "execution_count": 47,
      "outputs": [
        {
          "output_type": "stream",
          "text": [
            "FIPS\n",
            "Admin2\n",
            "Province_State\n",
            "Country_Region\n",
            "Last_Update\n",
            "Lat\n",
            "Long_\n",
            "Confirmed\n",
            "Deaths\n",
            "Recovered\n",
            "Active\n",
            "Combined_Key\n",
            "date\n"
          ],
          "name": "stdout"
        },
        {
          "output_type": "stream",
          "text": [
            "/usr/local/lib/python3.6/dist-packages/ipykernel_launcher.py:6: UserWarning: Pandas doesn't allow columns to be created via a new attribute name - see https://pandas.pydata.org/pandas-docs/stable/indexing.html#attribute-access\n",
            "  \n"
          ],
          "name": "stderr"
        }
      ]
    },
    {
      "cell_type": "code",
      "metadata": {
        "id": "TGgslFh24KV9",
        "colab_type": "code",
        "colab": {
          "base_uri": "https://localhost:8080/",
          "height": 80
        },
        "outputId": "443633a6-53d9-4bc6-ad2b-c88f9c33cdc2"
      },
      "source": [
        "df.loc[ [0],[\"Lat\"] ]"
      ],
      "execution_count": 17,
      "outputs": [
        {
          "output_type": "execute_result",
          "data": {
            "text/html": [
              "<div>\n",
              "<style scoped>\n",
              "    .dataframe tbody tr th:only-of-type {\n",
              "        vertical-align: middle;\n",
              "    }\n",
              "\n",
              "    .dataframe tbody tr th {\n",
              "        vertical-align: top;\n",
              "    }\n",
              "\n",
              "    .dataframe thead th {\n",
              "        text-align: right;\n",
              "    }\n",
              "</style>\n",
              "<table border=\"1\" class=\"dataframe\">\n",
              "  <thead>\n",
              "    <tr style=\"text-align: right;\">\n",
              "      <th></th>\n",
              "      <th>Lat</th>\n",
              "    </tr>\n",
              "  </thead>\n",
              "  <tbody>\n",
              "    <tr>\n",
              "      <th>0</th>\n",
              "      <td>34.223334</td>\n",
              "    </tr>\n",
              "  </tbody>\n",
              "</table>\n",
              "</div>"
            ],
            "text/plain": [
              "         Lat\n",
              "0  34.223334"
            ]
          },
          "metadata": {
            "tags": []
          },
          "execution_count": 17
        }
      ]
    },
    {
      "cell_type": "code",
      "metadata": {
        "id": "K32lhuRfOgao",
        "colab_type": "code",
        "colab": {
          "base_uri": "https://localhost:8080/",
          "height": 34
        },
        "outputId": "94f42335-221a-43db-80f6-20f8d29481e3"
      },
      "source": [
        "df.loc[ [2],[\"Lat\"] ].index"
      ],
      "execution_count": 25,
      "outputs": [
        {
          "output_type": "execute_result",
          "data": {
            "text/plain": [
              "Int64Index([2], dtype='int64')"
            ]
          },
          "metadata": {
            "tags": []
          },
          "execution_count": 25
        }
      ]
    },
    {
      "cell_type": "code",
      "metadata": {
        "id": "7t2tPMgpVlCi",
        "colab_type": "code",
        "colab": {
          "base_uri": "https://localhost:8080/",
          "height": 142
        },
        "outputId": "2d83f661-c113-4568-dd39-9ae30c8cc581"
      },
      "source": [
        "df[(df['Country_Region'].str.lower() == 'india')].head(3)"
      ],
      "execution_count": 46,
      "outputs": [
        {
          "output_type": "execute_result",
          "data": {
            "text/html": [
              "<div>\n",
              "<style scoped>\n",
              "    .dataframe tbody tr th:only-of-type {\n",
              "        vertical-align: middle;\n",
              "    }\n",
              "\n",
              "    .dataframe tbody tr th {\n",
              "        vertical-align: top;\n",
              "    }\n",
              "\n",
              "    .dataframe thead th {\n",
              "        text-align: right;\n",
              "    }\n",
              "</style>\n",
              "<table border=\"1\" class=\"dataframe\">\n",
              "  <thead>\n",
              "    <tr style=\"text-align: right;\">\n",
              "      <th></th>\n",
              "      <th>FIPS</th>\n",
              "      <th>Admin2</th>\n",
              "      <th>Province_State</th>\n",
              "      <th>Country_Region</th>\n",
              "      <th>Last_Update</th>\n",
              "      <th>Lat</th>\n",
              "      <th>Long_</th>\n",
              "      <th>Confirmed</th>\n",
              "      <th>Deaths</th>\n",
              "      <th>Recovered</th>\n",
              "      <th>Active</th>\n",
              "      <th>Combined_Key</th>\n",
              "      <th>date</th>\n",
              "    </tr>\n",
              "  </thead>\n",
              "  <tbody>\n",
              "    <tr>\n",
              "      <th>3271</th>\n",
              "      <td>NaN</td>\n",
              "      <td>NaN</td>\n",
              "      <td>NaN</td>\n",
              "      <td>India</td>\n",
              "      <td>3/22/20 23:45</td>\n",
              "      <td>20.593684</td>\n",
              "      <td>78.96288</td>\n",
              "      <td>396</td>\n",
              "      <td>7</td>\n",
              "      <td>24</td>\n",
              "      <td>365</td>\n",
              "      <td>India</td>\n",
              "      <td>03-22-2020</td>\n",
              "    </tr>\n",
              "    <tr>\n",
              "      <th>6737</th>\n",
              "      <td>NaN</td>\n",
              "      <td>NaN</td>\n",
              "      <td>NaN</td>\n",
              "      <td>India</td>\n",
              "      <td>2020-03-23 23:19:21</td>\n",
              "      <td>20.593684</td>\n",
              "      <td>78.96288</td>\n",
              "      <td>499</td>\n",
              "      <td>10</td>\n",
              "      <td>34</td>\n",
              "      <td>455</td>\n",
              "      <td>India</td>\n",
              "      <td>03-23-2020</td>\n",
              "    </tr>\n",
              "    <tr>\n",
              "      <th>10151</th>\n",
              "      <td>NaN</td>\n",
              "      <td>NaN</td>\n",
              "      <td>NaN</td>\n",
              "      <td>India</td>\n",
              "      <td>2020-03-24 23:37:15</td>\n",
              "      <td>20.593684</td>\n",
              "      <td>78.96288</td>\n",
              "      <td>536</td>\n",
              "      <td>10</td>\n",
              "      <td>40</td>\n",
              "      <td>486</td>\n",
              "      <td>India</td>\n",
              "      <td>03-24-2020</td>\n",
              "    </tr>\n",
              "  </tbody>\n",
              "</table>\n",
              "</div>"
            ],
            "text/plain": [
              "       FIPS Admin2 Province_State  ... Active Combined_Key        date\n",
              "3271    NaN    NaN            NaN  ...    365        India  03-22-2020\n",
              "6737    NaN    NaN            NaN  ...    455        India  03-23-2020\n",
              "10151   NaN    NaN            NaN  ...    486        India  03-24-2020\n",
              "\n",
              "[3 rows x 13 columns]"
            ]
          },
          "metadata": {
            "tags": []
          },
          "execution_count": 46
        }
      ]
    },
    {
      "cell_type": "code",
      "metadata": {
        "id": "1ALKtXghW_3_",
        "colab_type": "code",
        "colab": {
          "base_uri": "https://localhost:8080/",
          "height": 221
        },
        "outputId": "e8e3d407-38d9-41ff-f0c5-eefc5eae5ab1"
      },
      "source": [
        "df['Country_Region'].str.lower() == 'india'"
      ],
      "execution_count": 43,
      "outputs": [
        {
          "output_type": "execute_result",
          "data": {
            "text/plain": [
              "0         False\n",
              "1         False\n",
              "2         False\n",
              "3         False\n",
              "4         False\n",
              "          ...  \n",
              "100355    False\n",
              "100356    False\n",
              "100357    False\n",
              "100358    False\n",
              "100359    False\n",
              "Name: Country_Region, Length: 100360, dtype: bool"
            ]
          },
          "metadata": {
            "tags": []
          },
          "execution_count": 43
        }
      ]
    },
    {
      "cell_type": "code",
      "metadata": {
        "id": "K-yGPb8FXyi1",
        "colab_type": "code",
        "colab": {}
      },
      "source": [
        ""
      ],
      "execution_count": 0,
      "outputs": []
    }
  ]
}